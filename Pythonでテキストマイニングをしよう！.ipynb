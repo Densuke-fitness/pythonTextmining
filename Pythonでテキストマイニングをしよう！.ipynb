{
 "cells": [
  {
   "cell_type": "markdown",
   "metadata": {},
   "source": [
    "<h1>1. ライブラリのインポート</h1>"
   ]
  },
  {
   "cell_type": "code",
   "execution_count": 30,
   "metadata": {},
   "outputs": [],
   "source": [
    "# テキストマイニングで使うライブラリの数々\n",
    "from gensim.models import word2vec\n",
    "import re\n",
    "import matplotlib as mplt\n",
    "from matplotlib import rcParams\n",
    "import matplotlib.pyplot as plt\n",
    "import numpy as np\n",
    "from matplotlib.font_manager import FontProperties\n",
    "from PIL import Image\n",
    "import os\n",
    "from tqdm import tqdm\n",
    "from IPython.display import clear_output\n",
    "import time\n",
    "# こちらは pip を使用\n",
    "from janome.tokenizer import Tokenizer\n",
    "from wordcloud import WordCloud, ImageColorGenerator"
   ]
  },
  {
   "cell_type": "markdown",
   "metadata": {},
   "source": [
    "<h1>2. 関数の設定</h1>"
   ]
  },
  {
   "cell_type": "code",
   "execution_count": 31,
   "metadata": {},
   "outputs": [],
   "source": [
    "# 記号かどうかを判別する関数\n",
    "def find_kigou(string):\n",
    "    for s in string:\n",
    "        if s in [\"!\",\"?\",\"[\",\"]\",\"(\",\")\",\"「\",\"」\",\"！\",\"？\",\"（\",\"）\",\"'\",'\"',\",\",\".\"]:\n",
    "            return False\n",
    "    return True"
   ]
  },
  {
   "cell_type": "code",
   "execution_count": 32,
   "metadata": {},
   "outputs": [],
   "source": [
    "# 一文字だけの言葉を削除関数\n",
    "def token(words,tokens,h):\n",
    "    m = [chr(i) for i in range(12354,12354 + 82)]\n",
    "    for token in tokens:\n",
    "        word = token.surface\n",
    "        hinsi = token.part_of_speech.split(',')[0]\n",
    "        if hinsi == h:\n",
    "            key = word\n",
    "            if key not in words:\n",
    "                if find_kigou(key):\n",
    "                    # 一文字ひらがなの場合を削除\n",
    "                    if len(key) == 1 and key not in m:\n",
    "                        words[key] = 1\n",
    "                    # 二文字ひらがなの場合を削除\n",
    "                    if len(key) == 2 and (key[0] not in m and key[1] not in m):\n",
    "                        words[key] = 1\n",
    "                    # 三文字以上はすべて許可\n",
    "                    if len(key) >= 3 :\n",
    "                        words[key] = 1\n",
    "            else:\n",
    "                words[key] += 1\n",
    "    return words"
   ]
  },
  {
   "cell_type": "code",
   "execution_count": 33,
   "metadata": {},
   "outputs": [],
   "source": [
    "# 歌詞を読み込んで解析を行う関数\n",
    "def kashi(kashi_path,n):\n",
    "    #歌詞読み込み\n",
    "    rdata = open(f\"./データ/【歌詞】/{kashi_path}\",'r',encoding=\"utf-8_sig\")\n",
    "    data = rdata.read().replace('\\n', '')\n",
    "    #形態素解析\n",
    "    t = Tokenizer()\n",
    "    tokens = t.tokenize(data)\n",
    "    #名詞抽出\n",
    "    words = {}\n",
    "    words = token(words,tokens,\"名詞\")\n",
    "    if len(words) <= 50:\n",
    "        words = token(words,tokens,\"形容詞\")\n",
    "    if len(words) <= 50:\n",
    "        words = token(words,tokens,\"副詞\")\n",
    "        \n",
    "    #フォルダ作成        \n",
    "    kyokumei = kashi_path.split(\".\")[0]\n",
    "    os.mkdir(f\"./データ/【画像】/{kyokumei}\")\n",
    "    #テキストマイニング＆保存\n",
    "    for i in tqdm(range(n)):\n",
    "        wordcloud = WordCloud(font_path=\"HGRGM.TTC\",\n",
    "                              regexp=\"[\\w']+\",\n",
    "                              background_color='white',\n",
    "                              colormap='jet',\n",
    "                              width=800,\n",
    "                              height=800)\n",
    "        wordcloud.fit_words(words)\n",
    "#         plt.imshow(wordcloud)\n",
    "        plt.axis(\"off\")\n",
    "#         plt.show()\n",
    "        wordcloud.to_file(f'./データ/【画像】/{kyokumei}/{i}.png')"
   ]
  },
  {
   "cell_type": "code",
   "execution_count": 34,
   "metadata": {},
   "outputs": [],
   "source": [
    "# テキストマイニングのファイル内に歌詞名のファイルを作成してその中に作成↑\n",
    "def make_txt_mining(n):\n",
    "    count = 0\n",
    "    kashi_list = os.listdir(\"./データ/【歌詞】\")\n",
    "    #for i in tqdm(range(len(kashi_list))):\n",
    "    for i in range(len(kashi_list)):\n",
    "        count += 1\n",
    "        ka = kashi_list[i].split(\".\")[0]\n",
    "        if not os.path.isdir(f\"./データ/【画像】/{ka}\"):\n",
    "            kashi(kashi_list[i],n)\n",
    "        if count < len(kashi_list):\n",
    "            clear_output()"
   ]
  },
  {
   "cell_type": "code",
   "execution_count": 35,
   "metadata": {},
   "outputs": [],
   "source": [
    "def kashi_mask(kashi_path,mask_path,n):\n",
    "    #歌詞読み込み\n",
    "    rdata = open(f\"./データ/【歌詞】/{kashi_path}\",'r',encoding=\"utf-8_sig\")\n",
    "    data = rdata.read().replace('\\n', '')\n",
    "    #マスク読み込み\n",
    "    msk = np.array(Image.open(f\"./データ/【mask】/{mask_path}\"))\n",
    "    #形態素解析\n",
    "    t = Tokenizer()\n",
    "    tokens = t.tokenize(data)\n",
    "    #名詞抽出\n",
    "    words = {}\n",
    "    words = token(words,tokens,\"名詞\")\n",
    "    if len(words) <= 30:\n",
    "        words = token(words,tokens,\"形容詞\")\n",
    "    if len(words) <= 30:\n",
    "        words = token(words,tokens,\"副詞\")\n",
    "    \n",
    "    #フォルダ作成        \n",
    "    kyokumei = kashi_path.split(\".\")[0]\n",
    "    kyokumei_mask = kyokumei + \"_mask\"\n",
    "    os.mkdir(f\"./データ/【画像】/{kyokumei_mask}\")\n",
    "    maskname = mask_path.split(\".\")[0]\n",
    "    #テキストマイニング＆保存\n",
    "    for i in tqdm(range(n)):\n",
    "        wordcloud = WordCloud(font_path=\"HGRGM.TTC\",\n",
    "                              font_step = 2, \n",
    "                              min_font_size = 1,\n",
    "                              regexp=\"[\\w']+\",\n",
    "                              #mode = \"RGBA\",\n",
    "                              background_color = \"aqua\",#背景の色\n",
    "                              mask=msk,\n",
    "                              contour_width=5,#輪郭線の太さ\n",
    "                              contour_color='yellow',#輪郭線の色\n",
    "                              width=800,\n",
    "                              height=800)\n",
    "        wordcloud.fit_words(words)\n",
    "        image_colors = ImageColorGenerator(msk)\n",
    "        wordcloud.recolor(color_func=image_colors)        #文字の色にmaskの色を反映させる場合はこれ\n",
    "        #plt.imshow(wordcloud,interpolation=\"bilinear\")   #maskの色を考慮しない場合、上の行は消してこれ　\n",
    "        plt.axis(\"off\")\n",
    "        #plt.show()\n",
    "        wordcloud.to_file(f\"./データ/【画像】/{kyokumei_mask}/{kyokumei}.png\")"
   ]
  },
  {
   "cell_type": "markdown",
   "metadata": {},
   "source": [
    "<h1>3. 関数呼び出し</h1>"
   ]
  },
  {
   "cell_type": "code",
   "execution_count": 36,
   "metadata": {
    "scrolled": true
   },
   "outputs": [
    {
     "data": {
      "image/png": "[encoded data removed]",
      "text/plain": [
       "<Figure size 432x288 with 1 Axes>"
      ]
     },
     "metadata": {
      "needs_background": "light"
     },
     "output_type": "display_data"
    }
   ],
   "source": [
    "make_txt_mining(2)"
   ]
  },
  {
   "cell_type": "code",
   "execution_count": 37,
   "metadata": {
    "scrolled": true
   },
   "outputs": [
    {
     "name": "stderr",
     "output_type": "stream",
     "text": [
      "100%|████████████████████████████████████████████████████████████████████████████████████| 1/1 [00:04<00:00,  4.24s/it]\n"
     ]
    },
    {
     "data": {
      "image/png": "[encoded data removed]",
      "text/plain": [
       "<Figure size 432x288 with 1 Axes>"
      ]
     },
     "metadata": {
      "needs_background": "light"
     },
     "output_type": "display_data"
    }
   ],
   "source": [
    "# 先ほど作成した関数を呼び出してあげる\n",
    "kashi_mask(\"winey_zaim1.txt\",\"money.jpg\",1)"
   ]
  },
  {
   "cell_type": "code",
   "execution_count": null,
   "metadata": {},
   "outputs": [],
   "source": []
  }
 ],
 "metadata": {
  "kernelspec": {
   "display_name": "numpyenv",
   "language": "python",
   "name": "numpyenv"
  },
  "language_info": {
   "codemirror_mode": {
    "name": "ipython",
    "version": 3
   },
   "file_extension": ".py",
   "mimetype": "text/x-python",
   "name": "python",
   "nbconvert_exporter": "python",
   "pygments_lexer": "ipython3",
   "version": "3.7.7"
  }
 },
 "nbformat": 4,
 "nbformat_minor": 2
}
